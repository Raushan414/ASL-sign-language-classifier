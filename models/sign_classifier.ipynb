{
 "cells": [
  {
   "cell_type": "code",
   "execution_count": 1,
   "metadata": {
    "colab": {
     "base_uri": "https://localhost:8080/"
    },
    "executionInfo": {
     "elapsed": 27546,
     "status": "ok",
     "timestamp": 1619678156304,
     "user": {
      "displayName": "064_Raushan",
      "photoUrl": "",
      "userId": "12633297753218062669"
     },
     "user_tz": -330
    },
    "id": "b4YNLYJ30QAu",
    "outputId": "d5d949a5-1003-49ca-ffa2-f8070a72b45d"
   },
   "outputs": [
    {
     "name": "stdout",
     "output_type": "stream",
     "text": [
      "Mounted at /content/drive\n"
     ]
    }
   ],
   "source": [
    "from google.colab import drive\n",
    "drive.mount('/content/drive')"
   ]
  },
  {
   "cell_type": "code",
   "execution_count": 3,
   "metadata": {
    "executionInfo": {
     "elapsed": 1242,
     "status": "ok",
     "timestamp": 1619678159547,
     "user": {
      "displayName": "064_Raushan",
      "photoUrl": "",
      "userId": "12633297753218062669"
     },
     "user_tz": -330
    },
    "id": "cG2c8b9l5oMy"
   },
   "outputs": [],
   "source": [
    "import os\n",
    "import numpy as np\n",
    "import pandas as pd\n",
    "import cv2\n",
    "import pickle\n",
    "from google.colab.patches import cv2_imshow"
   ]
  },
  {
   "cell_type": "code",
   "execution_count": 4,
   "metadata": {
    "colab": {
     "base_uri": "https://localhost:8080/"
    },
    "executionInfo": {
     "elapsed": 2453,
     "status": "ok",
     "timestamp": 1619678162228,
     "user": {
      "displayName": "064_Raushan",
      "photoUrl": "",
      "userId": "12633297753218062669"
     },
     "user_tz": -330
    },
    "id": "ToYKT1aw6Ae_",
    "outputId": "955ac659-bd60-4592-ad03-1f30c609493f"
   },
   "outputs": [
    {
     "name": "stdout",
     "output_type": "stream",
     "text": [
      "/content/drive/My Drive/Colab/Datasets/sign_language\n"
     ]
    }
   ],
   "source": [
    "%cd '/content/drive/My Drive/Colab/Datasets/sign_language'"
   ]
  },
  {
   "cell_type": "code",
   "execution_count": 5,
   "metadata": {
    "executionInfo": {
     "elapsed": 6566,
     "status": "ok",
     "timestamp": 1619678170063,
     "user": {
      "displayName": "064_Raushan",
      "photoUrl": "",
      "userId": "12633297753218062669"
     },
     "user_tz": -330
    },
    "id": "yZyXjGFg6J-r"
   },
   "outputs": [],
   "source": [
    "train = pd.read_csv('sign_mnist_train.csv')\n",
    "test = pd.read_csv('sign_mnist_test.csv')"
   ]
  },
  {
   "cell_type": "code",
   "execution_count": 6,
   "metadata": {
    "colab": {
     "base_uri": "https://localhost:8080/",
     "height": 244
    },
    "executionInfo": {
     "elapsed": 1237,
     "status": "ok",
     "timestamp": 1619678171816,
     "user": {
      "displayName": "064_Raushan",
      "photoUrl": "",
      "userId": "12633297753218062669"
     },
     "user_tz": -330
    },
    "id": "LQwEVe736Yvj",
    "outputId": "6c25e8e8-c642-4daa-9bed-d87bd1aab687"
   },
   "outputs": [
    {
     "data": {
      "text/html": [
       "<div>\n",
       "<style scoped>\n",
       "    .dataframe tbody tr th:only-of-type {\n",
       "        vertical-align: middle;\n",
       "    }\n",
       "\n",
       "    .dataframe tbody tr th {\n",
       "        vertical-align: top;\n",
       "    }\n",
       "\n",
       "    .dataframe thead th {\n",
       "        text-align: right;\n",
       "    }\n",
       "</style>\n",
       "<table border=\"1\" class=\"dataframe\">\n",
       "  <thead>\n",
       "    <tr style=\"text-align: right;\">\n",
       "      <th></th>\n",
       "      <th>label</th>\n",
       "      <th>pixel1</th>\n",
       "      <th>pixel2</th>\n",
       "      <th>pixel3</th>\n",
       "      <th>pixel4</th>\n",
       "      <th>pixel5</th>\n",
       "      <th>pixel6</th>\n",
       "      <th>pixel7</th>\n",
       "      <th>pixel8</th>\n",
       "      <th>pixel9</th>\n",
       "      <th>pixel10</th>\n",
       "      <th>pixel11</th>\n",
       "      <th>pixel12</th>\n",
       "      <th>pixel13</th>\n",
       "      <th>pixel14</th>\n",
       "      <th>pixel15</th>\n",
       "      <th>pixel16</th>\n",
       "      <th>pixel17</th>\n",
       "      <th>pixel18</th>\n",
       "      <th>pixel19</th>\n",
       "      <th>pixel20</th>\n",
       "      <th>pixel21</th>\n",
       "      <th>pixel22</th>\n",
       "      <th>pixel23</th>\n",
       "      <th>pixel24</th>\n",
       "      <th>pixel25</th>\n",
       "      <th>pixel26</th>\n",
       "      <th>pixel27</th>\n",
       "      <th>pixel28</th>\n",
       "      <th>pixel29</th>\n",
       "      <th>pixel30</th>\n",
       "      <th>pixel31</th>\n",
       "      <th>pixel32</th>\n",
       "      <th>pixel33</th>\n",
       "      <th>pixel34</th>\n",
       "      <th>pixel35</th>\n",
       "      <th>pixel36</th>\n",
       "      <th>pixel37</th>\n",
       "      <th>pixel38</th>\n",
       "      <th>pixel39</th>\n",
       "      <th>...</th>\n",
       "      <th>pixel745</th>\n",
       "      <th>pixel746</th>\n",
       "      <th>pixel747</th>\n",
       "      <th>pixel748</th>\n",
       "      <th>pixel749</th>\n",
       "      <th>pixel750</th>\n",
       "      <th>pixel751</th>\n",
       "      <th>pixel752</th>\n",
       "      <th>pixel753</th>\n",
       "      <th>pixel754</th>\n",
       "      <th>pixel755</th>\n",
       "      <th>pixel756</th>\n",
       "      <th>pixel757</th>\n",
       "      <th>pixel758</th>\n",
       "      <th>pixel759</th>\n",
       "      <th>pixel760</th>\n",
       "      <th>pixel761</th>\n",
       "      <th>pixel762</th>\n",
       "      <th>pixel763</th>\n",
       "      <th>pixel764</th>\n",
       "      <th>pixel765</th>\n",
       "      <th>pixel766</th>\n",
       "      <th>pixel767</th>\n",
       "      <th>pixel768</th>\n",
       "      <th>pixel769</th>\n",
       "      <th>pixel770</th>\n",
       "      <th>pixel771</th>\n",
       "      <th>pixel772</th>\n",
       "      <th>pixel773</th>\n",
       "      <th>pixel774</th>\n",
       "      <th>pixel775</th>\n",
       "      <th>pixel776</th>\n",
       "      <th>pixel777</th>\n",
       "      <th>pixel778</th>\n",
       "      <th>pixel779</th>\n",
       "      <th>pixel780</th>\n",
       "      <th>pixel781</th>\n",
       "      <th>pixel782</th>\n",
       "      <th>pixel783</th>\n",
       "      <th>pixel784</th>\n",
       "    </tr>\n",
       "  </thead>\n",
       "  <tbody>\n",
       "    <tr>\n",
       "      <th>0</th>\n",
       "      <td>3</td>\n",
       "      <td>107</td>\n",
       "      <td>118</td>\n",
       "      <td>127</td>\n",
       "      <td>134</td>\n",
       "      <td>139</td>\n",
       "      <td>143</td>\n",
       "      <td>146</td>\n",
       "      <td>150</td>\n",
       "      <td>153</td>\n",
       "      <td>156</td>\n",
       "      <td>158</td>\n",
       "      <td>160</td>\n",
       "      <td>163</td>\n",
       "      <td>165</td>\n",
       "      <td>159</td>\n",
       "      <td>166</td>\n",
       "      <td>168</td>\n",
       "      <td>170</td>\n",
       "      <td>170</td>\n",
       "      <td>171</td>\n",
       "      <td>171</td>\n",
       "      <td>171</td>\n",
       "      <td>172</td>\n",
       "      <td>171</td>\n",
       "      <td>171</td>\n",
       "      <td>170</td>\n",
       "      <td>170</td>\n",
       "      <td>169</td>\n",
       "      <td>111</td>\n",
       "      <td>121</td>\n",
       "      <td>129</td>\n",
       "      <td>135</td>\n",
       "      <td>141</td>\n",
       "      <td>144</td>\n",
       "      <td>148</td>\n",
       "      <td>151</td>\n",
       "      <td>154</td>\n",
       "      <td>157</td>\n",
       "      <td>160</td>\n",
       "      <td>...</td>\n",
       "      <td>205</td>\n",
       "      <td>206</td>\n",
       "      <td>206</td>\n",
       "      <td>207</td>\n",
       "      <td>207</td>\n",
       "      <td>206</td>\n",
       "      <td>206</td>\n",
       "      <td>204</td>\n",
       "      <td>205</td>\n",
       "      <td>204</td>\n",
       "      <td>203</td>\n",
       "      <td>202</td>\n",
       "      <td>142</td>\n",
       "      <td>151</td>\n",
       "      <td>160</td>\n",
       "      <td>172</td>\n",
       "      <td>196</td>\n",
       "      <td>188</td>\n",
       "      <td>188</td>\n",
       "      <td>190</td>\n",
       "      <td>135</td>\n",
       "      <td>96</td>\n",
       "      <td>86</td>\n",
       "      <td>77</td>\n",
       "      <td>77</td>\n",
       "      <td>79</td>\n",
       "      <td>176</td>\n",
       "      <td>205</td>\n",
       "      <td>207</td>\n",
       "      <td>207</td>\n",
       "      <td>207</td>\n",
       "      <td>207</td>\n",
       "      <td>207</td>\n",
       "      <td>207</td>\n",
       "      <td>206</td>\n",
       "      <td>206</td>\n",
       "      <td>206</td>\n",
       "      <td>204</td>\n",
       "      <td>203</td>\n",
       "      <td>202</td>\n",
       "    </tr>\n",
       "    <tr>\n",
       "      <th>1</th>\n",
       "      <td>6</td>\n",
       "      <td>155</td>\n",
       "      <td>157</td>\n",
       "      <td>156</td>\n",
       "      <td>156</td>\n",
       "      <td>156</td>\n",
       "      <td>157</td>\n",
       "      <td>156</td>\n",
       "      <td>158</td>\n",
       "      <td>158</td>\n",
       "      <td>157</td>\n",
       "      <td>158</td>\n",
       "      <td>156</td>\n",
       "      <td>154</td>\n",
       "      <td>154</td>\n",
       "      <td>153</td>\n",
       "      <td>152</td>\n",
       "      <td>151</td>\n",
       "      <td>149</td>\n",
       "      <td>149</td>\n",
       "      <td>148</td>\n",
       "      <td>147</td>\n",
       "      <td>146</td>\n",
       "      <td>144</td>\n",
       "      <td>142</td>\n",
       "      <td>143</td>\n",
       "      <td>138</td>\n",
       "      <td>92</td>\n",
       "      <td>108</td>\n",
       "      <td>158</td>\n",
       "      <td>159</td>\n",
       "      <td>159</td>\n",
       "      <td>159</td>\n",
       "      <td>160</td>\n",
       "      <td>160</td>\n",
       "      <td>160</td>\n",
       "      <td>160</td>\n",
       "      <td>160</td>\n",
       "      <td>160</td>\n",
       "      <td>160</td>\n",
       "      <td>...</td>\n",
       "      <td>100</td>\n",
       "      <td>78</td>\n",
       "      <td>120</td>\n",
       "      <td>157</td>\n",
       "      <td>168</td>\n",
       "      <td>107</td>\n",
       "      <td>99</td>\n",
       "      <td>121</td>\n",
       "      <td>133</td>\n",
       "      <td>97</td>\n",
       "      <td>95</td>\n",
       "      <td>120</td>\n",
       "      <td>135</td>\n",
       "      <td>116</td>\n",
       "      <td>95</td>\n",
       "      <td>79</td>\n",
       "      <td>69</td>\n",
       "      <td>86</td>\n",
       "      <td>139</td>\n",
       "      <td>173</td>\n",
       "      <td>200</td>\n",
       "      <td>185</td>\n",
       "      <td>175</td>\n",
       "      <td>198</td>\n",
       "      <td>124</td>\n",
       "      <td>118</td>\n",
       "      <td>94</td>\n",
       "      <td>140</td>\n",
       "      <td>133</td>\n",
       "      <td>84</td>\n",
       "      <td>69</td>\n",
       "      <td>149</td>\n",
       "      <td>128</td>\n",
       "      <td>87</td>\n",
       "      <td>94</td>\n",
       "      <td>163</td>\n",
       "      <td>175</td>\n",
       "      <td>103</td>\n",
       "      <td>135</td>\n",
       "      <td>149</td>\n",
       "    </tr>\n",
       "    <tr>\n",
       "      <th>2</th>\n",
       "      <td>2</td>\n",
       "      <td>187</td>\n",
       "      <td>188</td>\n",
       "      <td>188</td>\n",
       "      <td>187</td>\n",
       "      <td>187</td>\n",
       "      <td>186</td>\n",
       "      <td>187</td>\n",
       "      <td>188</td>\n",
       "      <td>187</td>\n",
       "      <td>186</td>\n",
       "      <td>185</td>\n",
       "      <td>185</td>\n",
       "      <td>185</td>\n",
       "      <td>184</td>\n",
       "      <td>184</td>\n",
       "      <td>184</td>\n",
       "      <td>181</td>\n",
       "      <td>181</td>\n",
       "      <td>179</td>\n",
       "      <td>179</td>\n",
       "      <td>179</td>\n",
       "      <td>178</td>\n",
       "      <td>178</td>\n",
       "      <td>109</td>\n",
       "      <td>52</td>\n",
       "      <td>66</td>\n",
       "      <td>77</td>\n",
       "      <td>83</td>\n",
       "      <td>188</td>\n",
       "      <td>189</td>\n",
       "      <td>189</td>\n",
       "      <td>188</td>\n",
       "      <td>188</td>\n",
       "      <td>189</td>\n",
       "      <td>188</td>\n",
       "      <td>188</td>\n",
       "      <td>188</td>\n",
       "      <td>188</td>\n",
       "      <td>187</td>\n",
       "      <td>...</td>\n",
       "      <td>203</td>\n",
       "      <td>204</td>\n",
       "      <td>203</td>\n",
       "      <td>201</td>\n",
       "      <td>200</td>\n",
       "      <td>200</td>\n",
       "      <td>199</td>\n",
       "      <td>198</td>\n",
       "      <td>196</td>\n",
       "      <td>195</td>\n",
       "      <td>194</td>\n",
       "      <td>193</td>\n",
       "      <td>198</td>\n",
       "      <td>166</td>\n",
       "      <td>132</td>\n",
       "      <td>114</td>\n",
       "      <td>89</td>\n",
       "      <td>74</td>\n",
       "      <td>79</td>\n",
       "      <td>77</td>\n",
       "      <td>74</td>\n",
       "      <td>78</td>\n",
       "      <td>132</td>\n",
       "      <td>188</td>\n",
       "      <td>210</td>\n",
       "      <td>209</td>\n",
       "      <td>206</td>\n",
       "      <td>205</td>\n",
       "      <td>204</td>\n",
       "      <td>203</td>\n",
       "      <td>202</td>\n",
       "      <td>201</td>\n",
       "      <td>200</td>\n",
       "      <td>199</td>\n",
       "      <td>198</td>\n",
       "      <td>199</td>\n",
       "      <td>198</td>\n",
       "      <td>195</td>\n",
       "      <td>194</td>\n",
       "      <td>195</td>\n",
       "    </tr>\n",
       "    <tr>\n",
       "      <th>3</th>\n",
       "      <td>2</td>\n",
       "      <td>211</td>\n",
       "      <td>211</td>\n",
       "      <td>212</td>\n",
       "      <td>212</td>\n",
       "      <td>211</td>\n",
       "      <td>210</td>\n",
       "      <td>211</td>\n",
       "      <td>210</td>\n",
       "      <td>210</td>\n",
       "      <td>211</td>\n",
       "      <td>209</td>\n",
       "      <td>207</td>\n",
       "      <td>208</td>\n",
       "      <td>207</td>\n",
       "      <td>206</td>\n",
       "      <td>203</td>\n",
       "      <td>202</td>\n",
       "      <td>201</td>\n",
       "      <td>200</td>\n",
       "      <td>198</td>\n",
       "      <td>197</td>\n",
       "      <td>195</td>\n",
       "      <td>192</td>\n",
       "      <td>197</td>\n",
       "      <td>171</td>\n",
       "      <td>51</td>\n",
       "      <td>52</td>\n",
       "      <td>54</td>\n",
       "      <td>212</td>\n",
       "      <td>213</td>\n",
       "      <td>215</td>\n",
       "      <td>215</td>\n",
       "      <td>212</td>\n",
       "      <td>212</td>\n",
       "      <td>213</td>\n",
       "      <td>212</td>\n",
       "      <td>212</td>\n",
       "      <td>211</td>\n",
       "      <td>211</td>\n",
       "      <td>...</td>\n",
       "      <td>247</td>\n",
       "      <td>242</td>\n",
       "      <td>233</td>\n",
       "      <td>231</td>\n",
       "      <td>230</td>\n",
       "      <td>229</td>\n",
       "      <td>227</td>\n",
       "      <td>225</td>\n",
       "      <td>223</td>\n",
       "      <td>221</td>\n",
       "      <td>220</td>\n",
       "      <td>216</td>\n",
       "      <td>58</td>\n",
       "      <td>51</td>\n",
       "      <td>49</td>\n",
       "      <td>50</td>\n",
       "      <td>57</td>\n",
       "      <td>60</td>\n",
       "      <td>17</td>\n",
       "      <td>15</td>\n",
       "      <td>18</td>\n",
       "      <td>17</td>\n",
       "      <td>19</td>\n",
       "      <td>1</td>\n",
       "      <td>159</td>\n",
       "      <td>255</td>\n",
       "      <td>237</td>\n",
       "      <td>239</td>\n",
       "      <td>237</td>\n",
       "      <td>236</td>\n",
       "      <td>235</td>\n",
       "      <td>234</td>\n",
       "      <td>233</td>\n",
       "      <td>231</td>\n",
       "      <td>230</td>\n",
       "      <td>226</td>\n",
       "      <td>225</td>\n",
       "      <td>222</td>\n",
       "      <td>229</td>\n",
       "      <td>163</td>\n",
       "    </tr>\n",
       "    <tr>\n",
       "      <th>4</th>\n",
       "      <td>13</td>\n",
       "      <td>164</td>\n",
       "      <td>167</td>\n",
       "      <td>170</td>\n",
       "      <td>172</td>\n",
       "      <td>176</td>\n",
       "      <td>179</td>\n",
       "      <td>180</td>\n",
       "      <td>184</td>\n",
       "      <td>185</td>\n",
       "      <td>186</td>\n",
       "      <td>188</td>\n",
       "      <td>189</td>\n",
       "      <td>189</td>\n",
       "      <td>190</td>\n",
       "      <td>191</td>\n",
       "      <td>189</td>\n",
       "      <td>190</td>\n",
       "      <td>190</td>\n",
       "      <td>187</td>\n",
       "      <td>190</td>\n",
       "      <td>192</td>\n",
       "      <td>193</td>\n",
       "      <td>191</td>\n",
       "      <td>191</td>\n",
       "      <td>192</td>\n",
       "      <td>192</td>\n",
       "      <td>194</td>\n",
       "      <td>194</td>\n",
       "      <td>166</td>\n",
       "      <td>169</td>\n",
       "      <td>172</td>\n",
       "      <td>174</td>\n",
       "      <td>177</td>\n",
       "      <td>180</td>\n",
       "      <td>182</td>\n",
       "      <td>185</td>\n",
       "      <td>186</td>\n",
       "      <td>187</td>\n",
       "      <td>190</td>\n",
       "      <td>...</td>\n",
       "      <td>90</td>\n",
       "      <td>77</td>\n",
       "      <td>88</td>\n",
       "      <td>117</td>\n",
       "      <td>123</td>\n",
       "      <td>127</td>\n",
       "      <td>129</td>\n",
       "      <td>134</td>\n",
       "      <td>145</td>\n",
       "      <td>152</td>\n",
       "      <td>156</td>\n",
       "      <td>179</td>\n",
       "      <td>105</td>\n",
       "      <td>106</td>\n",
       "      <td>105</td>\n",
       "      <td>104</td>\n",
       "      <td>104</td>\n",
       "      <td>104</td>\n",
       "      <td>175</td>\n",
       "      <td>199</td>\n",
       "      <td>178</td>\n",
       "      <td>152</td>\n",
       "      <td>136</td>\n",
       "      <td>130</td>\n",
       "      <td>136</td>\n",
       "      <td>150</td>\n",
       "      <td>118</td>\n",
       "      <td>92</td>\n",
       "      <td>85</td>\n",
       "      <td>76</td>\n",
       "      <td>92</td>\n",
       "      <td>105</td>\n",
       "      <td>105</td>\n",
       "      <td>108</td>\n",
       "      <td>133</td>\n",
       "      <td>163</td>\n",
       "      <td>157</td>\n",
       "      <td>163</td>\n",
       "      <td>164</td>\n",
       "      <td>179</td>\n",
       "    </tr>\n",
       "  </tbody>\n",
       "</table>\n",
       "<p>5 rows × 785 columns</p>\n",
       "</div>"
      ],
      "text/plain": [
       "   label  pixel1  pixel2  pixel3  ...  pixel781  pixel782  pixel783  pixel784\n",
       "0      3     107     118     127  ...       206       204       203       202\n",
       "1      6     155     157     156  ...       175       103       135       149\n",
       "2      2     187     188     188  ...       198       195       194       195\n",
       "3      2     211     211     212  ...       225       222       229       163\n",
       "4     13     164     167     170  ...       157       163       164       179\n",
       "\n",
       "[5 rows x 785 columns]"
      ]
     },
     "execution_count": 6,
     "metadata": {
      "tags": []
     },
     "output_type": "execute_result"
    }
   ],
   "source": [
    "train.head()"
   ]
  },
  {
   "cell_type": "code",
   "execution_count": 7,
   "metadata": {
    "colab": {
     "base_uri": "https://localhost:8080/",
     "height": 244
    },
    "executionInfo": {
     "elapsed": 1446,
     "status": "ok",
     "timestamp": 1619678173584,
     "user": {
      "displayName": "064_Raushan",
      "photoUrl": "",
      "userId": "12633297753218062669"
     },
     "user_tz": -330
    },
    "id": "gsTMCdKU6mam",
    "outputId": "b07b155e-5232-476b-833f-4401caa6cfd6"
   },
   "outputs": [
    {
     "data": {
      "text/html": [
       "<div>\n",
       "<style scoped>\n",
       "    .dataframe tbody tr th:only-of-type {\n",
       "        vertical-align: middle;\n",
       "    }\n",
       "\n",
       "    .dataframe tbody tr th {\n",
       "        vertical-align: top;\n",
       "    }\n",
       "\n",
       "    .dataframe thead th {\n",
       "        text-align: right;\n",
       "    }\n",
       "</style>\n",
       "<table border=\"1\" class=\"dataframe\">\n",
       "  <thead>\n",
       "    <tr style=\"text-align: right;\">\n",
       "      <th></th>\n",
       "      <th>label</th>\n",
       "      <th>pixel1</th>\n",
       "      <th>pixel2</th>\n",
       "      <th>pixel3</th>\n",
       "      <th>pixel4</th>\n",
       "      <th>pixel5</th>\n",
       "      <th>pixel6</th>\n",
       "      <th>pixel7</th>\n",
       "      <th>pixel8</th>\n",
       "      <th>pixel9</th>\n",
       "      <th>pixel10</th>\n",
       "      <th>pixel11</th>\n",
       "      <th>pixel12</th>\n",
       "      <th>pixel13</th>\n",
       "      <th>pixel14</th>\n",
       "      <th>pixel15</th>\n",
       "      <th>pixel16</th>\n",
       "      <th>pixel17</th>\n",
       "      <th>pixel18</th>\n",
       "      <th>pixel19</th>\n",
       "      <th>pixel20</th>\n",
       "      <th>pixel21</th>\n",
       "      <th>pixel22</th>\n",
       "      <th>pixel23</th>\n",
       "      <th>pixel24</th>\n",
       "      <th>pixel25</th>\n",
       "      <th>pixel26</th>\n",
       "      <th>pixel27</th>\n",
       "      <th>pixel28</th>\n",
       "      <th>pixel29</th>\n",
       "      <th>pixel30</th>\n",
       "      <th>pixel31</th>\n",
       "      <th>pixel32</th>\n",
       "      <th>pixel33</th>\n",
       "      <th>pixel34</th>\n",
       "      <th>pixel35</th>\n",
       "      <th>pixel36</th>\n",
       "      <th>pixel37</th>\n",
       "      <th>pixel38</th>\n",
       "      <th>pixel39</th>\n",
       "      <th>...</th>\n",
       "      <th>pixel745</th>\n",
       "      <th>pixel746</th>\n",
       "      <th>pixel747</th>\n",
       "      <th>pixel748</th>\n",
       "      <th>pixel749</th>\n",
       "      <th>pixel750</th>\n",
       "      <th>pixel751</th>\n",
       "      <th>pixel752</th>\n",
       "      <th>pixel753</th>\n",
       "      <th>pixel754</th>\n",
       "      <th>pixel755</th>\n",
       "      <th>pixel756</th>\n",
       "      <th>pixel757</th>\n",
       "      <th>pixel758</th>\n",
       "      <th>pixel759</th>\n",
       "      <th>pixel760</th>\n",
       "      <th>pixel761</th>\n",
       "      <th>pixel762</th>\n",
       "      <th>pixel763</th>\n",
       "      <th>pixel764</th>\n",
       "      <th>pixel765</th>\n",
       "      <th>pixel766</th>\n",
       "      <th>pixel767</th>\n",
       "      <th>pixel768</th>\n",
       "      <th>pixel769</th>\n",
       "      <th>pixel770</th>\n",
       "      <th>pixel771</th>\n",
       "      <th>pixel772</th>\n",
       "      <th>pixel773</th>\n",
       "      <th>pixel774</th>\n",
       "      <th>pixel775</th>\n",
       "      <th>pixel776</th>\n",
       "      <th>pixel777</th>\n",
       "      <th>pixel778</th>\n",
       "      <th>pixel779</th>\n",
       "      <th>pixel780</th>\n",
       "      <th>pixel781</th>\n",
       "      <th>pixel782</th>\n",
       "      <th>pixel783</th>\n",
       "      <th>pixel784</th>\n",
       "    </tr>\n",
       "  </thead>\n",
       "  <tbody>\n",
       "    <tr>\n",
       "      <th>0</th>\n",
       "      <td>6</td>\n",
       "      <td>149</td>\n",
       "      <td>149</td>\n",
       "      <td>150</td>\n",
       "      <td>150</td>\n",
       "      <td>150</td>\n",
       "      <td>151</td>\n",
       "      <td>151</td>\n",
       "      <td>150</td>\n",
       "      <td>151</td>\n",
       "      <td>152</td>\n",
       "      <td>152</td>\n",
       "      <td>152</td>\n",
       "      <td>152</td>\n",
       "      <td>152</td>\n",
       "      <td>153</td>\n",
       "      <td>153</td>\n",
       "      <td>151</td>\n",
       "      <td>152</td>\n",
       "      <td>152</td>\n",
       "      <td>153</td>\n",
       "      <td>152</td>\n",
       "      <td>152</td>\n",
       "      <td>151</td>\n",
       "      <td>151</td>\n",
       "      <td>150</td>\n",
       "      <td>150</td>\n",
       "      <td>150</td>\n",
       "      <td>149</td>\n",
       "      <td>150</td>\n",
       "      <td>150</td>\n",
       "      <td>150</td>\n",
       "      <td>152</td>\n",
       "      <td>152</td>\n",
       "      <td>151</td>\n",
       "      <td>152</td>\n",
       "      <td>152</td>\n",
       "      <td>152</td>\n",
       "      <td>152</td>\n",
       "      <td>152</td>\n",
       "      <td>...</td>\n",
       "      <td>131</td>\n",
       "      <td>134</td>\n",
       "      <td>144</td>\n",
       "      <td>147</td>\n",
       "      <td>125</td>\n",
       "      <td>87</td>\n",
       "      <td>87</td>\n",
       "      <td>103</td>\n",
       "      <td>107</td>\n",
       "      <td>110</td>\n",
       "      <td>116</td>\n",
       "      <td>113</td>\n",
       "      <td>75</td>\n",
       "      <td>74</td>\n",
       "      <td>74</td>\n",
       "      <td>74</td>\n",
       "      <td>76</td>\n",
       "      <td>74</td>\n",
       "      <td>82</td>\n",
       "      <td>134</td>\n",
       "      <td>168</td>\n",
       "      <td>155</td>\n",
       "      <td>146</td>\n",
       "      <td>137</td>\n",
       "      <td>145</td>\n",
       "      <td>146</td>\n",
       "      <td>149</td>\n",
       "      <td>135</td>\n",
       "      <td>124</td>\n",
       "      <td>125</td>\n",
       "      <td>138</td>\n",
       "      <td>148</td>\n",
       "      <td>127</td>\n",
       "      <td>89</td>\n",
       "      <td>82</td>\n",
       "      <td>96</td>\n",
       "      <td>106</td>\n",
       "      <td>112</td>\n",
       "      <td>120</td>\n",
       "      <td>107</td>\n",
       "    </tr>\n",
       "    <tr>\n",
       "      <th>1</th>\n",
       "      <td>5</td>\n",
       "      <td>126</td>\n",
       "      <td>128</td>\n",
       "      <td>131</td>\n",
       "      <td>132</td>\n",
       "      <td>133</td>\n",
       "      <td>134</td>\n",
       "      <td>135</td>\n",
       "      <td>135</td>\n",
       "      <td>136</td>\n",
       "      <td>138</td>\n",
       "      <td>137</td>\n",
       "      <td>137</td>\n",
       "      <td>138</td>\n",
       "      <td>138</td>\n",
       "      <td>139</td>\n",
       "      <td>137</td>\n",
       "      <td>142</td>\n",
       "      <td>140</td>\n",
       "      <td>138</td>\n",
       "      <td>139</td>\n",
       "      <td>137</td>\n",
       "      <td>137</td>\n",
       "      <td>136</td>\n",
       "      <td>135</td>\n",
       "      <td>134</td>\n",
       "      <td>133</td>\n",
       "      <td>134</td>\n",
       "      <td>132</td>\n",
       "      <td>129</td>\n",
       "      <td>132</td>\n",
       "      <td>134</td>\n",
       "      <td>135</td>\n",
       "      <td>135</td>\n",
       "      <td>137</td>\n",
       "      <td>139</td>\n",
       "      <td>139</td>\n",
       "      <td>139</td>\n",
       "      <td>140</td>\n",
       "      <td>141</td>\n",
       "      <td>...</td>\n",
       "      <td>114</td>\n",
       "      <td>112</td>\n",
       "      <td>89</td>\n",
       "      <td>48</td>\n",
       "      <td>133</td>\n",
       "      <td>194</td>\n",
       "      <td>182</td>\n",
       "      <td>185</td>\n",
       "      <td>184</td>\n",
       "      <td>184</td>\n",
       "      <td>182</td>\n",
       "      <td>181</td>\n",
       "      <td>172</td>\n",
       "      <td>174</td>\n",
       "      <td>177</td>\n",
       "      <td>178</td>\n",
       "      <td>178</td>\n",
       "      <td>179</td>\n",
       "      <td>181</td>\n",
       "      <td>183</td>\n",
       "      <td>187</td>\n",
       "      <td>175</td>\n",
       "      <td>165</td>\n",
       "      <td>154</td>\n",
       "      <td>118</td>\n",
       "      <td>107</td>\n",
       "      <td>100</td>\n",
       "      <td>75</td>\n",
       "      <td>96</td>\n",
       "      <td>83</td>\n",
       "      <td>47</td>\n",
       "      <td>104</td>\n",
       "      <td>194</td>\n",
       "      <td>183</td>\n",
       "      <td>186</td>\n",
       "      <td>184</td>\n",
       "      <td>184</td>\n",
       "      <td>184</td>\n",
       "      <td>182</td>\n",
       "      <td>180</td>\n",
       "    </tr>\n",
       "    <tr>\n",
       "      <th>2</th>\n",
       "      <td>10</td>\n",
       "      <td>85</td>\n",
       "      <td>88</td>\n",
       "      <td>92</td>\n",
       "      <td>96</td>\n",
       "      <td>105</td>\n",
       "      <td>123</td>\n",
       "      <td>135</td>\n",
       "      <td>143</td>\n",
       "      <td>147</td>\n",
       "      <td>152</td>\n",
       "      <td>157</td>\n",
       "      <td>163</td>\n",
       "      <td>168</td>\n",
       "      <td>171</td>\n",
       "      <td>182</td>\n",
       "      <td>172</td>\n",
       "      <td>175</td>\n",
       "      <td>185</td>\n",
       "      <td>183</td>\n",
       "      <td>184</td>\n",
       "      <td>185</td>\n",
       "      <td>185</td>\n",
       "      <td>185</td>\n",
       "      <td>183</td>\n",
       "      <td>183</td>\n",
       "      <td>182</td>\n",
       "      <td>181</td>\n",
       "      <td>178</td>\n",
       "      <td>86</td>\n",
       "      <td>88</td>\n",
       "      <td>93</td>\n",
       "      <td>96</td>\n",
       "      <td>108</td>\n",
       "      <td>125</td>\n",
       "      <td>137</td>\n",
       "      <td>145</td>\n",
       "      <td>149</td>\n",
       "      <td>154</td>\n",
       "      <td>160</td>\n",
       "      <td>...</td>\n",
       "      <td>145</td>\n",
       "      <td>123</td>\n",
       "      <td>78</td>\n",
       "      <td>162</td>\n",
       "      <td>239</td>\n",
       "      <td>227</td>\n",
       "      <td>229</td>\n",
       "      <td>226</td>\n",
       "      <td>226</td>\n",
       "      <td>225</td>\n",
       "      <td>224</td>\n",
       "      <td>222</td>\n",
       "      <td>89</td>\n",
       "      <td>91</td>\n",
       "      <td>94</td>\n",
       "      <td>111</td>\n",
       "      <td>136</td>\n",
       "      <td>154</td>\n",
       "      <td>167</td>\n",
       "      <td>184</td>\n",
       "      <td>125</td>\n",
       "      <td>3</td>\n",
       "      <td>166</td>\n",
       "      <td>225</td>\n",
       "      <td>195</td>\n",
       "      <td>188</td>\n",
       "      <td>172</td>\n",
       "      <td>185</td>\n",
       "      <td>161</td>\n",
       "      <td>122</td>\n",
       "      <td>68</td>\n",
       "      <td>166</td>\n",
       "      <td>242</td>\n",
       "      <td>227</td>\n",
       "      <td>230</td>\n",
       "      <td>227</td>\n",
       "      <td>226</td>\n",
       "      <td>225</td>\n",
       "      <td>224</td>\n",
       "      <td>222</td>\n",
       "    </tr>\n",
       "    <tr>\n",
       "      <th>3</th>\n",
       "      <td>0</td>\n",
       "      <td>203</td>\n",
       "      <td>205</td>\n",
       "      <td>207</td>\n",
       "      <td>206</td>\n",
       "      <td>207</td>\n",
       "      <td>209</td>\n",
       "      <td>210</td>\n",
       "      <td>209</td>\n",
       "      <td>210</td>\n",
       "      <td>209</td>\n",
       "      <td>208</td>\n",
       "      <td>207</td>\n",
       "      <td>207</td>\n",
       "      <td>209</td>\n",
       "      <td>208</td>\n",
       "      <td>210</td>\n",
       "      <td>210</td>\n",
       "      <td>207</td>\n",
       "      <td>209</td>\n",
       "      <td>209</td>\n",
       "      <td>208</td>\n",
       "      <td>209</td>\n",
       "      <td>210</td>\n",
       "      <td>209</td>\n",
       "      <td>207</td>\n",
       "      <td>208</td>\n",
       "      <td>209</td>\n",
       "      <td>207</td>\n",
       "      <td>206</td>\n",
       "      <td>208</td>\n",
       "      <td>209</td>\n",
       "      <td>208</td>\n",
       "      <td>208</td>\n",
       "      <td>210</td>\n",
       "      <td>211</td>\n",
       "      <td>210</td>\n",
       "      <td>211</td>\n",
       "      <td>209</td>\n",
       "      <td>209</td>\n",
       "      <td>...</td>\n",
       "      <td>85</td>\n",
       "      <td>80</td>\n",
       "      <td>84</td>\n",
       "      <td>151</td>\n",
       "      <td>238</td>\n",
       "      <td>255</td>\n",
       "      <td>255</td>\n",
       "      <td>250</td>\n",
       "      <td>237</td>\n",
       "      <td>245</td>\n",
       "      <td>250</td>\n",
       "      <td>232</td>\n",
       "      <td>103</td>\n",
       "      <td>101</td>\n",
       "      <td>102</td>\n",
       "      <td>103</td>\n",
       "      <td>95</td>\n",
       "      <td>208</td>\n",
       "      <td>231</td>\n",
       "      <td>227</td>\n",
       "      <td>209</td>\n",
       "      <td>190</td>\n",
       "      <td>179</td>\n",
       "      <td>182</td>\n",
       "      <td>152</td>\n",
       "      <td>150</td>\n",
       "      <td>159</td>\n",
       "      <td>119</td>\n",
       "      <td>83</td>\n",
       "      <td>63</td>\n",
       "      <td>154</td>\n",
       "      <td>248</td>\n",
       "      <td>247</td>\n",
       "      <td>248</td>\n",
       "      <td>253</td>\n",
       "      <td>236</td>\n",
       "      <td>230</td>\n",
       "      <td>240</td>\n",
       "      <td>253</td>\n",
       "      <td>255</td>\n",
       "    </tr>\n",
       "    <tr>\n",
       "      <th>4</th>\n",
       "      <td>3</td>\n",
       "      <td>188</td>\n",
       "      <td>191</td>\n",
       "      <td>193</td>\n",
       "      <td>195</td>\n",
       "      <td>199</td>\n",
       "      <td>201</td>\n",
       "      <td>202</td>\n",
       "      <td>203</td>\n",
       "      <td>203</td>\n",
       "      <td>203</td>\n",
       "      <td>204</td>\n",
       "      <td>204</td>\n",
       "      <td>204</td>\n",
       "      <td>203</td>\n",
       "      <td>202</td>\n",
       "      <td>198</td>\n",
       "      <td>216</td>\n",
       "      <td>217</td>\n",
       "      <td>135</td>\n",
       "      <td>181</td>\n",
       "      <td>200</td>\n",
       "      <td>195</td>\n",
       "      <td>194</td>\n",
       "      <td>193</td>\n",
       "      <td>190</td>\n",
       "      <td>189</td>\n",
       "      <td>187</td>\n",
       "      <td>185</td>\n",
       "      <td>190</td>\n",
       "      <td>194</td>\n",
       "      <td>196</td>\n",
       "      <td>197</td>\n",
       "      <td>200</td>\n",
       "      <td>202</td>\n",
       "      <td>204</td>\n",
       "      <td>206</td>\n",
       "      <td>207</td>\n",
       "      <td>207</td>\n",
       "      <td>206</td>\n",
       "      <td>...</td>\n",
       "      <td>93</td>\n",
       "      <td>52</td>\n",
       "      <td>24</td>\n",
       "      <td>53</td>\n",
       "      <td>63</td>\n",
       "      <td>33</td>\n",
       "      <td>41</td>\n",
       "      <td>51</td>\n",
       "      <td>48</td>\n",
       "      <td>45</td>\n",
       "      <td>49</td>\n",
       "      <td>55</td>\n",
       "      <td>149</td>\n",
       "      <td>150</td>\n",
       "      <td>150</td>\n",
       "      <td>148</td>\n",
       "      <td>147</td>\n",
       "      <td>151</td>\n",
       "      <td>124</td>\n",
       "      <td>82</td>\n",
       "      <td>84</td>\n",
       "      <td>81</td>\n",
       "      <td>69</td>\n",
       "      <td>81</td>\n",
       "      <td>111</td>\n",
       "      <td>103</td>\n",
       "      <td>84</td>\n",
       "      <td>75</td>\n",
       "      <td>53</td>\n",
       "      <td>28</td>\n",
       "      <td>26</td>\n",
       "      <td>40</td>\n",
       "      <td>64</td>\n",
       "      <td>48</td>\n",
       "      <td>29</td>\n",
       "      <td>46</td>\n",
       "      <td>49</td>\n",
       "      <td>46</td>\n",
       "      <td>46</td>\n",
       "      <td>53</td>\n",
       "    </tr>\n",
       "  </tbody>\n",
       "</table>\n",
       "<p>5 rows × 785 columns</p>\n",
       "</div>"
      ],
      "text/plain": [
       "   label  pixel1  pixel2  pixel3  ...  pixel781  pixel782  pixel783  pixel784\n",
       "0      6     149     149     150  ...       106       112       120       107\n",
       "1      5     126     128     131  ...       184       184       182       180\n",
       "2     10      85      88      92  ...       226       225       224       222\n",
       "3      0     203     205     207  ...       230       240       253       255\n",
       "4      3     188     191     193  ...        49        46        46        53\n",
       "\n",
       "[5 rows x 785 columns]"
      ]
     },
     "execution_count": 7,
     "metadata": {
      "tags": []
     },
     "output_type": "execute_result"
    }
   ],
   "source": [
    "test.head()"
   ]
  },
  {
   "cell_type": "code",
   "execution_count": 8,
   "metadata": {
    "colab": {
     "base_uri": "https://localhost:8080/",
     "height": 45
    },
    "executionInfo": {
     "elapsed": 905,
     "status": "ok",
     "timestamp": 1619678175825,
     "user": {
      "displayName": "064_Raushan",
      "photoUrl": "",
      "userId": "12633297753218062669"
     },
     "user_tz": -330
    },
    "id": "u8cp849h6o3H",
    "outputId": "e2d7d8b8-4bb1-468f-ee71-c0d4ded0764c"
   },
   "outputs": [
    {
     "data": {
      "image/png": "[encoded data removed]",
      "text/plain": [
       "<PIL.Image.Image image mode=L size=28x28 at 0x7F6F71C18710>"
      ]
     },
     "metadata": {
      "tags": []
     },
     "output_type": "display_data"
    }
   ],
   "source": [
    "sam_img = np.array(train.iloc[0:1,1:])\n",
    "sam_img = np.resize(sam_img,(28,28))\n",
    "cv2_imshow(sam_img)"
   ]
  },
  {
   "cell_type": "code",
   "execution_count": 9,
   "metadata": {
    "colab": {
     "base_uri": "https://localhost:8080/"
    },
    "executionInfo": {
     "elapsed": 1893,
     "status": "ok",
     "timestamp": 1619678179231,
     "user": {
      "displayName": "064_Raushan",
      "photoUrl": "",
      "userId": "12633297753218062669"
     },
     "user_tz": -330
    },
    "id": "_j6ZgNx47Acx",
    "outputId": "a5c06c0e-d8b4-448b-d795-8bf2cc711bc0"
   },
   "outputs": [
    {
     "data": {
      "text/plain": [
       "(27455, 785)"
      ]
     },
     "execution_count": 9,
     "metadata": {
      "tags": []
     },
     "output_type": "execute_result"
    }
   ],
   "source": [
    "train.shape"
   ]
  },
  {
   "cell_type": "code",
   "execution_count": 10,
   "metadata": {
    "colab": {
     "base_uri": "https://localhost:8080/"
    },
    "executionInfo": {
     "elapsed": 1794,
     "status": "ok",
     "timestamp": 1619678181521,
     "user": {
      "displayName": "064_Raushan",
      "photoUrl": "",
      "userId": "12633297753218062669"
     },
     "user_tz": -330
    },
    "id": "4fDkl-cc7Edd",
    "outputId": "23e88cb8-1a51-48ff-d0e7-a35f488689a8"
   },
   "outputs": [
    {
     "data": {
      "text/plain": [
       "(7172, 785)"
      ]
     },
     "execution_count": 10,
     "metadata": {
      "tags": []
     },
     "output_type": "execute_result"
    }
   ],
   "source": [
    "test.shape"
   ]
  },
  {
   "cell_type": "code",
   "execution_count": 11,
   "metadata": {
    "executionInfo": {
     "elapsed": 1580,
     "status": "ok",
     "timestamp": 1619678183613,
     "user": {
      "displayName": "064_Raushan",
      "photoUrl": "",
      "userId": "12633297753218062669"
     },
     "user_tz": -330
    },
    "id": "xYfy_msu9IuM"
   },
   "outputs": [],
   "source": [
    "X_train = np.array(train,dtype='float32')\n",
    "X_test = np.array(test,dtype='float32')"
   ]
  },
  {
   "cell_type": "code",
   "execution_count": 12,
   "metadata": {
    "executionInfo": {
     "elapsed": 1086,
     "status": "ok",
     "timestamp": 1619678190212,
     "user": {
      "displayName": "064_Raushan",
      "photoUrl": "",
      "userId": "12633297753218062669"
     },
     "user_tz": -330
    },
    "id": "iCmBZC8Q_1pi"
   },
   "outputs": [],
   "source": [
    "classes = ['A', 'B', 'C', 'D', 'E', 'F', 'G', 'H', 'I', 'J', 'K', 'L', 'M', 'N', 'O', 'P', 'Q', 'R', 'S', 'T', 'U', 'V', 'W', 'X', 'Y' ]"
   ]
  },
  {
   "cell_type": "code",
   "execution_count": 13,
   "metadata": {
    "colab": {
     "base_uri": "https://localhost:8080/",
     "height": 281
    },
    "executionInfo": {
     "elapsed": 2289,
     "status": "ok",
     "timestamp": 1619678192777,
     "user": {
      "displayName": "064_Raushan",
      "photoUrl": "",
      "userId": "12633297753218062669"
     },
     "user_tz": -330
    },
    "id": "cWSv_Q0D9aMe",
    "outputId": "a5694974-4119-4514-89de-faa55d3c5c3c"
   },
   "outputs": [
    {
     "data": {
      "image/png": "[encoded data removed]",
      "text/plain": [
       "<Figure size 432x288 with 1 Axes>"
      ]
     },
     "metadata": {
      "needs_background": "light",
      "tags": []
     },
     "output_type": "display_data"
    }
   ],
   "source": [
    "import matplotlib.pyplot as plt\n",
    "import random\n",
    "\n",
    "i = random.randint(0,27455)\n",
    "plt.imshow(X_train[i,1:].reshape((28,28)))\n",
    "plt.title(classes[int(X_train[i,0])])\n",
    "plt.show()"
   ]
  },
  {
   "cell_type": "code",
   "execution_count": 14,
   "metadata": {
    "colab": {
     "base_uri": "https://localhost:8080/",
     "height": 590
    },
    "executionInfo": {
     "elapsed": 2620,
     "status": "ok",
     "timestamp": 1619678197435,
     "user": {
      "displayName": "064_Raushan",
      "photoUrl": "",
      "userId": "12633297753218062669"
     },
     "user_tz": -330
    },
    "id": "nKpYPgQiABH_",
    "outputId": "93d651b7-107e-4b43-ac48-22b7ff5793df"
   },
   "outputs": [
    {
     "data": {
      "image/png": "[encoded data removed]",
      "text/plain": [
       "<Figure size 720x720 with 16 Axes>"
      ]
     },
     "metadata": {
      "needs_background": "light",
      "tags": []
     },
     "output_type": "display_data"
    }
   ],
   "source": [
    "fig,ax = plt.subplots(4,4,figsize=(10,10))\n",
    "ax = ax.ravel()\n",
    "for r in range(4*4):\n",
    "  i = random.randint(0,27455)\n",
    "  ax[r].imshow(X_train[i,1:].reshape((28,28)))\n",
    "  ax[r].set_title(classes[int(X_train[i,0])])\n",
    "  ax[r].axis('off')\n",
    "plt.subplots_adjust(hspace=0.4,wspace=0.3)"
   ]
  },
  {
   "cell_type": "code",
   "execution_count": 15,
   "metadata": {
    "colab": {
     "base_uri": "https://localhost:8080/",
     "height": 529
    },
    "executionInfo": {
     "elapsed": 1599,
     "status": "ok",
     "timestamp": 1619678202587,
     "user": {
      "displayName": "064_Raushan",
      "photoUrl": "",
      "userId": "12633297753218062669"
     },
     "user_tz": -330
    },
    "id": "X5iUW5wiAVmx",
    "outputId": "c605db22-7235-49aa-b9cb-c130db576449"
   },
   "outputs": [
    {
     "data": {
      "image/png": "[encoded data removed]",
      "text/plain": [
       "<Figure size 432x288 with 1 Axes>"
      ]
     },
     "metadata": {
      "needs_background": "light",
      "tags": []
     },
     "output_type": "display_data"
    },
    {
     "data": {
      "image/png": "[encoded data removed]",
      "text/plain": [
       "<Figure size 432x288 with 1 Axes>"
      ]
     },
     "metadata": {
      "needs_background": "light",
      "tags": []
     },
     "output_type": "display_data"
    }
   ],
   "source": [
    "i = random.randint(0,27455)\n",
    "kernel = np.ones((5,5),np.uint8)\n",
    "img = X_train[i,1:].reshape((28,28))\n",
    "plt.imshow(img)\n",
    "plt.show()\n",
    "img = cv2.bilateralFilter(img,9,50,50)\n",
    "plt.imshow(img)\n",
    "plt.title(classes[int(X_train[i,0])])\n",
    "plt.show()"
   ]
  },
  {
   "cell_type": "code",
   "execution_count": 16,
   "metadata": {
    "colab": {
     "base_uri": "https://localhost:8080/"
    },
    "executionInfo": {
     "elapsed": 671,
     "status": "ok",
     "timestamp": 1619678203215,
     "user": {
      "displayName": "064_Raushan",
      "photoUrl": "",
      "userId": "12633297753218062669"
     },
     "user_tz": -330
    },
    "id": "KDLe0OezEToJ",
    "outputId": "3d482d1f-b474-47ec-c46f-8301a0598099"
   },
   "outputs": [
    {
     "data": {
      "text/plain": [
       "27455"
      ]
     },
     "execution_count": 16,
     "metadata": {
      "tags": []
     },
     "output_type": "execute_result"
    }
   ],
   "source": [
    "len(X_train)"
   ]
  },
  {
   "cell_type": "code",
   "execution_count": 17,
   "metadata": {
    "colab": {
     "base_uri": "https://localhost:8080/",
     "height": 529
    },
    "executionInfo": {
     "elapsed": 2456,
     "status": "ok",
     "timestamp": 1619678205417,
     "user": {
      "displayName": "064_Raushan",
      "photoUrl": "",
      "userId": "12633297753218062669"
     },
     "user_tz": -330
    },
    "id": "pBE8cwMeIEYj",
    "outputId": "93be42f3-bdde-46f8-f6ea-ab956bb16e50"
   },
   "outputs": [
    {
     "data": {
      "image/png": "[encoded data removed]",
      "text/plain": [
       "<Figure size 432x288 with 1 Axes>"
      ]
     },
     "metadata": {
      "needs_background": "light",
      "tags": []
     },
     "output_type": "display_data"
    },
    {
     "data": {
      "image/png": "[encoded data removed]",
      "text/plain": [
       "<Figure size 432x288 with 1 Axes>"
      ]
     },
     "metadata": {
      "needs_background": "light",
      "tags": []
     },
     "output_type": "display_data"
    }
   ],
   "source": [
    "from sklearn.preprocessing import MinMaxScaler\n",
    "ss = MinMaxScaler()\n",
    "i = random.randint(0,27455)\n",
    "img = X_train[i,1:].reshape((28,28))\n",
    "plt.imshow(img,cmap = plt.cm.binary)\n",
    "plt.show()\n",
    "img = ss.fit_transform(img)\n",
    "plt.imshow(img,cmap = plt.cm.binary)\n",
    "plt.title(classes[int(X_train[i,0])])\n",
    "plt.show()"
   ]
  },
  {
   "cell_type": "code",
   "execution_count": 18,
   "metadata": {
    "executionInfo": {
     "elapsed": 990,
     "status": "ok",
     "timestamp": 1619678205418,
     "user": {
      "displayName": "064_Raushan",
      "photoUrl": "",
      "userId": "12633297753218062669"
     },
     "user_tz": -330
    },
    "id": "t_qowoVDIVFi"
   },
   "outputs": [],
   "source": [
    "#Our images dont need any transformation it only degrade the image quality"
   ]
  },
  {
   "cell_type": "code",
   "execution_count": 19,
   "metadata": {
    "executionInfo": {
     "elapsed": 1365,
     "status": "ok",
     "timestamp": 1619678206776,
     "user": {
      "displayName": "064_Raushan",
      "photoUrl": "",
      "userId": "12633297753218062669"
     },
     "user_tz": -330
    },
    "id": "NpY3H-T5IxvP"
   },
   "outputs": [],
   "source": [
    "train_X = X_train[:,1:]/255.0\n",
    "train_y = X_train[:,0].astype('int')\n",
    "test_X = X_test[:,1:]/255.0\n",
    "test_y = X_test[:,0].astype('int')"
   ]
  },
  {
   "cell_type": "code",
   "execution_count": 20,
   "metadata": {
    "executionInfo": {
     "elapsed": 1624,
     "status": "ok",
     "timestamp": 1619678207530,
     "user": {
      "displayName": "064_Raushan",
      "photoUrl": "",
      "userId": "12633297753218062669"
     },
     "user_tz": -330
    },
    "id": "LXeXzlCiKc3y"
   },
   "outputs": [],
   "source": [
    "X = []\n",
    "for i in range(len(train_X)):\n",
    "  img = train_X[i].reshape((28,28))\n",
    "  X.append(img)"
   ]
  },
  {
   "cell_type": "code",
   "execution_count": 21,
   "metadata": {
    "colab": {
     "base_uri": "https://localhost:8080/",
     "height": 590
    },
    "executionInfo": {
     "elapsed": 3628,
     "status": "ok",
     "timestamp": 1619678210026,
     "user": {
      "displayName": "064_Raushan",
      "photoUrl": "",
      "userId": "12633297753218062669"
     },
     "user_tz": -330
    },
    "id": "pycUyJ_jKt9D",
    "outputId": "21005588-de33-49f1-84d9-4643549e1af8"
   },
   "outputs": [
    {
     "data": {
      "image/png": "[encoded data removed]",
      "text/plain": [
       "<Figure size 1440x720 with 32 Axes>"
      ]
     },
     "metadata": {
      "needs_background": "light",
      "tags": []
     },
     "output_type": "display_data"
    }
   ],
   "source": [
    "fig,ax = plt.subplots(4,8,figsize=(20,10))\n",
    "ax = ax.ravel()\n",
    "for r in range(0,2*4*4,2):\n",
    "  i = random.randint(0,27455)\n",
    "  ax[r].imshow(X[i],cmap='gray')\n",
    "  ax[r].set_title(classes[train_y[i]])\n",
    "  ax[r].axis('off')\n",
    "  ax[r+1].imshow(X[i])\n",
    "  ax[r+1].set_title(classes[train_y[i]])\n",
    "  ax[r+1].axis('off')\n",
    "plt.subplots_adjust(hspace=0.4,wspace=0.3)"
   ]
  },
  {
   "cell_type": "code",
   "execution_count": 22,
   "metadata": {
    "executionInfo": {
     "elapsed": 1489,
     "status": "ok",
     "timestamp": 1619678217085,
     "user": {
      "displayName": "064_Raushan",
      "photoUrl": "",
      "userId": "12633297753218062669"
     },
     "user_tz": -330
    },
    "id": "nxiBJ6SoLeAr"
   },
   "outputs": [],
   "source": [
    "y = train_y"
   ]
  },
  {
   "cell_type": "code",
   "execution_count": 23,
   "metadata": {
    "executionInfo": {
     "elapsed": 3124,
     "status": "ok",
     "timestamp": 1619678219179,
     "user": {
      "displayName": "064_Raushan",
      "photoUrl": "",
      "userId": "12633297753218062669"
     },
     "user_tz": -330
    },
    "id": "6AzlkdTjON53"
   },
   "outputs": [],
   "source": [
    "from tensorflow import keras\n",
    "from keras.layers import Conv2D,Flatten,Dense,Dropout,MaxPooling2D\n",
    "from keras.models import Sequential\n",
    "from keras import Input\n",
    "from keras.optimizers import Adam\n",
    "from keras.callbacks import TensorBoard"
   ]
  },
  {
   "cell_type": "code",
   "execution_count": 24,
   "metadata": {
    "executionInfo": {
     "elapsed": 2469,
     "status": "ok",
     "timestamp": 1619678219181,
     "user": {
      "displayName": "064_Raushan",
      "photoUrl": "",
      "userId": "12633297753218062669"
     },
     "user_tz": -330
    },
    "id": "oJQbE37FOyA8"
   },
   "outputs": [],
   "source": [
    "X = np.array(X)"
   ]
  },
  {
   "cell_type": "code",
   "execution_count": 25,
   "metadata": {
    "executionInfo": {
     "elapsed": 1805,
     "status": "ok",
     "timestamp": 1619678219181,
     "user": {
      "displayName": "064_Raushan",
      "photoUrl": "",
      "userId": "12633297753218062669"
     },
     "user_tz": -330
    },
    "id": "4kkDit_0O1fN"
   },
   "outputs": [],
   "source": [
    "X = X.reshape(X.shape[0],28,28,1)\n",
    "test_X = test_X.reshape(test_X.shape[0],28,28,1)"
   ]
  },
  {
   "cell_type": "code",
   "execution_count": 26,
   "metadata": {
    "colab": {
     "base_uri": "https://localhost:8080/"
    },
    "executionInfo": {
     "elapsed": 870,
     "status": "ok",
     "timestamp": 1619678221582,
     "user": {
      "displayName": "064_Raushan",
      "photoUrl": "",
      "userId": "12633297753218062669"
     },
     "user_tz": -330
    },
    "id": "l2b2O6upO9HP",
    "outputId": "47185ec0-eca6-49f9-d764-e5e34a432f48"
   },
   "outputs": [
    {
     "name": "stdout",
     "output_type": "stream",
     "text": [
      "(27455, 28, 28, 1)\n",
      "(27455,)\n"
     ]
    }
   ],
   "source": [
    "print(X.shape)\n",
    "print(y.shape)"
   ]
  },
  {
   "cell_type": "code",
   "execution_count": 27,
   "metadata": {
    "colab": {
     "base_uri": "https://localhost:8080/"
    },
    "executionInfo": {
     "elapsed": 1078,
     "status": "ok",
     "timestamp": 1619678222561,
     "user": {
      "displayName": "064_Raushan",
      "photoUrl": "",
      "userId": "12633297753218062669"
     },
     "user_tz": -330
    },
    "id": "SS1rsmsHPK1r",
    "outputId": "14bac479-33bd-433c-e09e-8c60da40a812"
   },
   "outputs": [
    {
     "data": {
      "text/plain": [
       "17    1294\n",
       "16    1279\n",
       "11    1241\n",
       "22    1225\n",
       "5     1204\n",
       "18    1199\n",
       "14    1196\n",
       "3     1196\n",
       "19    1186\n",
       "23    1164\n",
       "8     1162\n",
       "20    1161\n",
       "13    1151\n",
       "2     1144\n",
       "0     1126\n",
       "24    1118\n",
       "10    1114\n",
       "6     1090\n",
       "15    1088\n",
       "21    1082\n",
       "12    1055\n",
       "7     1013\n",
       "1     1010\n",
       "4      957\n",
       "dtype: int64"
      ]
     },
     "execution_count": 27,
     "metadata": {
      "tags": []
     },
     "output_type": "execute_result"
    }
   ],
   "source": [
    "tar = pd.Series(y)\n",
    "tar.value_counts() #dataset is balanced"
   ]
  },
  {
   "cell_type": "code",
   "execution_count": 40,
   "metadata": {
    "executionInfo": {
     "elapsed": 1287,
     "status": "ok",
     "timestamp": 1619678507691,
     "user": {
      "displayName": "064_Raushan",
      "photoUrl": "",
      "userId": "12633297753218062669"
     },
     "user_tz": -330
    },
    "id": "3iguB78uPvks"
   },
   "outputs": [],
   "source": [
    "model = Sequential()\n",
    "#model.add(Input(shape=(28,28,),batch_size=32))\n",
    "model.add(Conv2D(32,(3,3),input_shape=(28,28,1),activation='relu'))\n",
    "model.add(MaxPooling2D((2,2)))\n",
    "model.add(Dropout(0.5))\n",
    "\n",
    "model.add(Conv2D(64,(3,3),activation='relu',padding='same'))\n",
    "model.add(MaxPooling2D((2,2)))\n",
    "model.add(Dropout(0.25))\n",
    "\n",
    "model.add(Conv2D(128,(3,3),activation='relu',padding='same'))\n",
    "model.add(MaxPooling2D((2,2)))\n",
    "model.add(Dropout(0.25))\n",
    "\n",
    "model.add(Flatten())\n",
    "model.add(Dense(512,activation='relu'))\n",
    "model.add(Dropout(0.2))\n",
    "\n",
    "model.add(Dense(25,activation='softmax'))"
   ]
  },
  {
   "cell_type": "code",
   "execution_count": 41,
   "metadata": {
    "colab": {
     "base_uri": "https://localhost:8080/"
    },
    "executionInfo": {
     "elapsed": 1345,
     "status": "ok",
     "timestamp": 1619678508960,
     "user": {
      "displayName": "064_Raushan",
      "photoUrl": "",
      "userId": "12633297753218062669"
     },
     "user_tz": -330
    },
    "id": "Holr8nP_SSSv",
    "outputId": "57693b59-b725-45d2-fc43-841de2974903"
   },
   "outputs": [
    {
     "name": "stdout",
     "output_type": "stream",
     "text": [
      "Model: \"sequential_2\"\n",
      "_________________________________________________________________\n",
      "Layer (type)                 Output Shape              Param #   \n",
      "=================================================================\n",
      "conv2d_7 (Conv2D)            (None, 26, 26, 32)        320       \n",
      "_________________________________________________________________\n",
      "max_pooling2d_7 (MaxPooling2 (None, 13, 13, 32)        0         \n",
      "_________________________________________________________________\n",
      "dropout_9 (Dropout)          (None, 13, 13, 32)        0         \n",
      "_________________________________________________________________\n",
      "conv2d_8 (Conv2D)            (None, 13, 13, 64)        18496     \n",
      "_________________________________________________________________\n",
      "max_pooling2d_8 (MaxPooling2 (None, 6, 6, 64)          0         \n",
      "_________________________________________________________________\n",
      "dropout_10 (Dropout)         (None, 6, 6, 64)          0         \n",
      "_________________________________________________________________\n",
      "conv2d_9 (Conv2D)            (None, 6, 6, 128)         73856     \n",
      "_________________________________________________________________\n",
      "max_pooling2d_9 (MaxPooling2 (None, 3, 3, 128)         0         \n",
      "_________________________________________________________________\n",
      "dropout_11 (Dropout)         (None, 3, 3, 128)         0         \n",
      "_________________________________________________________________\n",
      "flatten_2 (Flatten)          (None, 1152)              0         \n",
      "_________________________________________________________________\n",
      "dense_4 (Dense)              (None, 512)               590336    \n",
      "_________________________________________________________________\n",
      "dropout_12 (Dropout)         (None, 512)               0         \n",
      "_________________________________________________________________\n",
      "dense_5 (Dense)              (None, 25)                12825     \n",
      "=================================================================\n",
      "Total params: 695,833\n",
      "Trainable params: 695,833\n",
      "Non-trainable params: 0\n",
      "_________________________________________________________________\n"
     ]
    }
   ],
   "source": [
    "model.summary()"
   ]
  },
  {
   "cell_type": "code",
   "execution_count": 42,
   "metadata": {
    "executionInfo": {
     "elapsed": 1497,
     "status": "ok",
     "timestamp": 1619678510661,
     "user": {
      "displayName": "064_Raushan",
      "photoUrl": "",
      "userId": "12633297753218062669"
     },
     "user_tz": -330
    },
    "id": "4cuFZK2OTK47"
   },
   "outputs": [],
   "source": [
    "model.compile(loss='sparse_categorical_crossentropy',optimizer=Adam(lr=0.0005),metrics=['accuracy'])"
   ]
  },
  {
   "cell_type": "code",
   "execution_count": 43,
   "metadata": {
    "colab": {
     "base_uri": "https://localhost:8080/"
    },
    "executionInfo": {
     "elapsed": 33271,
     "status": "ok",
     "timestamp": 1619678544360,
     "user": {
      "displayName": "064_Raushan",
      "photoUrl": "",
      "userId": "12633297753218062669"
     },
     "user_tz": -330
    },
    "id": "wSk9-oI5TqVn",
    "outputId": "e683413d-1ed7-4f3a-bb1e-ab8c03df0282"
   },
   "outputs": [
    {
     "name": "stdout",
     "output_type": "stream",
     "text": [
      "Epoch 1/50\n",
      "54/54 [==============================] - 1s 15ms/step - loss: 3.1901 - accuracy: 0.0500 - val_loss: 3.0297 - val_accuracy: 0.1175\n",
      "Epoch 2/50\n",
      "54/54 [==============================] - 1s 12ms/step - loss: 2.7075 - accuracy: 0.1965 - val_loss: 1.8541 - val_accuracy: 0.4714\n",
      "Epoch 3/50\n",
      "54/54 [==============================] - 1s 12ms/step - loss: 1.6876 - accuracy: 0.4611 - val_loss: 1.1788 - val_accuracy: 0.6510\n",
      "Epoch 4/50\n",
      "54/54 [==============================] - 1s 11ms/step - loss: 1.1050 - accuracy: 0.6363 - val_loss: 0.8103 - val_accuracy: 0.7557\n",
      "Epoch 5/50\n",
      "54/54 [==============================] - 1s 12ms/step - loss: 0.7478 - accuracy: 0.7470 - val_loss: 0.5595 - val_accuracy: 0.8416\n",
      "Epoch 6/50\n",
      "54/54 [==============================] - 1s 11ms/step - loss: 0.5356 - accuracy: 0.8135 - val_loss: 0.4267 - val_accuracy: 0.8681\n",
      "Epoch 7/50\n",
      "54/54 [==============================] - 1s 11ms/step - loss: 0.3912 - accuracy: 0.8684 - val_loss: 0.3519 - val_accuracy: 0.8947\n",
      "Epoch 8/50\n",
      "54/54 [==============================] - 1s 11ms/step - loss: 0.3161 - accuracy: 0.8935 - val_loss: 0.3009 - val_accuracy: 0.9046\n",
      "Epoch 9/50\n",
      "54/54 [==============================] - 1s 11ms/step - loss: 0.2412 - accuracy: 0.9210 - val_loss: 0.2487 - val_accuracy: 0.9187\n",
      "Epoch 10/50\n",
      "54/54 [==============================] - 1s 12ms/step - loss: 0.2042 - accuracy: 0.9316 - val_loss: 0.2100 - val_accuracy: 0.9396\n",
      "Epoch 11/50\n",
      "54/54 [==============================] - 1s 11ms/step - loss: 0.1639 - accuracy: 0.9480 - val_loss: 0.2110 - val_accuracy: 0.9381\n",
      "Epoch 12/50\n",
      "54/54 [==============================] - 1s 11ms/step - loss: 0.1392 - accuracy: 0.9529 - val_loss: 0.1808 - val_accuracy: 0.9423\n",
      "Epoch 13/50\n",
      "54/54 [==============================] - 1s 11ms/step - loss: 0.1220 - accuracy: 0.9624 - val_loss: 0.1754 - val_accuracy: 0.9445\n",
      "Epoch 14/50\n",
      "54/54 [==============================] - 1s 11ms/step - loss: 0.1025 - accuracy: 0.9679 - val_loss: 0.1882 - val_accuracy: 0.9407\n",
      "Epoch 15/50\n",
      "54/54 [==============================] - 1s 11ms/step - loss: 0.0843 - accuracy: 0.9732 - val_loss: 0.1600 - val_accuracy: 0.9512\n",
      "Epoch 16/50\n",
      "54/54 [==============================] - 1s 11ms/step - loss: 0.0757 - accuracy: 0.9759 - val_loss: 0.1492 - val_accuracy: 0.9562\n",
      "Epoch 17/50\n",
      "54/54 [==============================] - 1s 11ms/step - loss: 0.0687 - accuracy: 0.9772 - val_loss: 0.1659 - val_accuracy: 0.9409\n",
      "Epoch 18/50\n",
      "54/54 [==============================] - 1s 12ms/step - loss: 0.0599 - accuracy: 0.9828 - val_loss: 0.1410 - val_accuracy: 0.9561\n",
      "Epoch 19/50\n",
      "54/54 [==============================] - 1s 11ms/step - loss: 0.0543 - accuracy: 0.9839 - val_loss: 0.1598 - val_accuracy: 0.9495\n",
      "Epoch 20/50\n",
      "54/54 [==============================] - 1s 11ms/step - loss: 0.0489 - accuracy: 0.9847 - val_loss: 0.1449 - val_accuracy: 0.9600\n",
      "Epoch 21/50\n",
      "54/54 [==============================] - 1s 11ms/step - loss: 0.0463 - accuracy: 0.9855 - val_loss: 0.1511 - val_accuracy: 0.9506\n",
      "Epoch 22/50\n",
      "54/54 [==============================] - 1s 11ms/step - loss: 0.0391 - accuracy: 0.9885 - val_loss: 0.1387 - val_accuracy: 0.9572\n",
      "Epoch 23/50\n",
      "54/54 [==============================] - 1s 11ms/step - loss: 0.0379 - accuracy: 0.9888 - val_loss: 0.1576 - val_accuracy: 0.9571\n",
      "Epoch 24/50\n",
      "54/54 [==============================] - 1s 12ms/step - loss: 0.0316 - accuracy: 0.9903 - val_loss: 0.1500 - val_accuracy: 0.9527\n",
      "Epoch 25/50\n",
      "54/54 [==============================] - 1s 11ms/step - loss: 0.0342 - accuracy: 0.9903 - val_loss: 0.1543 - val_accuracy: 0.9583\n",
      "Epoch 26/50\n",
      "54/54 [==============================] - 1s 12ms/step - loss: 0.0313 - accuracy: 0.9906 - val_loss: 0.1535 - val_accuracy: 0.9583\n",
      "Epoch 27/50\n",
      "54/54 [==============================] - 1s 12ms/step - loss: 0.0241 - accuracy: 0.9933 - val_loss: 0.1384 - val_accuracy: 0.9583\n",
      "Epoch 28/50\n",
      "54/54 [==============================] - 1s 12ms/step - loss: 0.0246 - accuracy: 0.9926 - val_loss: 0.1473 - val_accuracy: 0.9529\n",
      "Epoch 29/50\n",
      "54/54 [==============================] - 1s 11ms/step - loss: 0.0223 - accuracy: 0.9933 - val_loss: 0.1523 - val_accuracy: 0.9571\n",
      "Epoch 30/50\n",
      "54/54 [==============================] - 1s 11ms/step - loss: 0.0224 - accuracy: 0.9936 - val_loss: 0.1521 - val_accuracy: 0.9651\n",
      "Epoch 31/50\n",
      "54/54 [==============================] - 1s 11ms/step - loss: 0.0192 - accuracy: 0.9950 - val_loss: 0.1462 - val_accuracy: 0.9598\n",
      "Epoch 32/50\n",
      "54/54 [==============================] - 1s 11ms/step - loss: 0.0233 - accuracy: 0.9929 - val_loss: 0.1489 - val_accuracy: 0.9598\n",
      "Epoch 33/50\n",
      "54/54 [==============================] - 1s 11ms/step - loss: 0.0187 - accuracy: 0.9944 - val_loss: 0.1395 - val_accuracy: 0.9619\n",
      "Epoch 34/50\n",
      "54/54 [==============================] - 1s 11ms/step - loss: 0.0146 - accuracy: 0.9963 - val_loss: 0.1261 - val_accuracy: 0.9674\n",
      "Epoch 35/50\n",
      "54/54 [==============================] - 1s 11ms/step - loss: 0.0157 - accuracy: 0.9956 - val_loss: 0.1328 - val_accuracy: 0.9656\n",
      "Epoch 36/50\n",
      "54/54 [==============================] - 1s 12ms/step - loss: 0.0141 - accuracy: 0.9959 - val_loss: 0.1387 - val_accuracy: 0.9617\n",
      "Epoch 37/50\n",
      "54/54 [==============================] - 1s 12ms/step - loss: 0.0135 - accuracy: 0.9963 - val_loss: 0.1396 - val_accuracy: 0.9604\n",
      "Epoch 38/50\n",
      "54/54 [==============================] - 1s 11ms/step - loss: 0.0136 - accuracy: 0.9954 - val_loss: 0.1374 - val_accuracy: 0.9709\n",
      "Epoch 39/50\n",
      "54/54 [==============================] - 1s 12ms/step - loss: 0.0124 - accuracy: 0.9960 - val_loss: 0.1538 - val_accuracy: 0.9600\n",
      "Epoch 40/50\n",
      "54/54 [==============================] - 1s 11ms/step - loss: 0.0113 - accuracy: 0.9971 - val_loss: 0.1384 - val_accuracy: 0.9636\n",
      "Epoch 41/50\n",
      "54/54 [==============================] - 1s 12ms/step - loss: 0.0132 - accuracy: 0.9968 - val_loss: 0.1438 - val_accuracy: 0.9572\n",
      "Epoch 42/50\n",
      "54/54 [==============================] - 1s 12ms/step - loss: 0.0107 - accuracy: 0.9973 - val_loss: 0.1507 - val_accuracy: 0.9632\n",
      "Epoch 43/50\n",
      "54/54 [==============================] - 1s 12ms/step - loss: 0.0117 - accuracy: 0.9969 - val_loss: 0.1578 - val_accuracy: 0.9632\n",
      "Epoch 44/50\n",
      "54/54 [==============================] - 1s 12ms/step - loss: 0.0088 - accuracy: 0.9978 - val_loss: 0.1432 - val_accuracy: 0.9649\n",
      "Epoch 45/50\n",
      "54/54 [==============================] - 1s 12ms/step - loss: 0.0111 - accuracy: 0.9965 - val_loss: 0.1551 - val_accuracy: 0.9593\n",
      "Epoch 46/50\n",
      "54/54 [==============================] - 1s 12ms/step - loss: 0.0097 - accuracy: 0.9970 - val_loss: 0.1323 - val_accuracy: 0.9699\n",
      "Epoch 47/50\n",
      "54/54 [==============================] - 1s 12ms/step - loss: 0.0075 - accuracy: 0.9982 - val_loss: 0.1450 - val_accuracy: 0.9646\n",
      "Epoch 48/50\n",
      "54/54 [==============================] - 1s 12ms/step - loss: 0.0097 - accuracy: 0.9969 - val_loss: 0.1541 - val_accuracy: 0.9594\n",
      "Epoch 49/50\n",
      "54/54 [==============================] - 1s 11ms/step - loss: 0.0094 - accuracy: 0.9967 - val_loss: 0.1609 - val_accuracy: 0.9658\n",
      "Epoch 50/50\n",
      "54/54 [==============================] - 1s 12ms/step - loss: 0.0088 - accuracy: 0.9973 - val_loss: 0.1667 - val_accuracy: 0.9643\n"
     ]
    }
   ],
   "source": [
    "history = model.fit(X,y,validation_data=(test_X,test_y),batch_size=512,epochs=50,verbose=1)"
   ]
  },
  {
   "cell_type": "code",
   "execution_count": 46,
   "metadata": {
    "colab": {
     "base_uri": "https://localhost:8080/",
     "height": 279
    },
    "executionInfo": {
     "elapsed": 1233,
     "status": "ok",
     "timestamp": 1619678573818,
     "user": {
      "displayName": "064_Raushan",
      "photoUrl": "",
      "userId": "12633297753218062669"
     },
     "user_tz": -330
    },
    "id": "M8f6-VKmT8UU",
    "outputId": "e813d467-0d85-471c-81c4-fc72711bf623"
   },
   "outputs": [
    {
     "data": {
      "text/plain": [
       "Text(0.5, 1.0, 'accuracy evaluation')"
      ]
     },
     "execution_count": 46,
     "metadata": {
      "tags": []
     },
     "output_type": "execute_result"
    },
    {
     "data": {
      "image/png": "[encoded data removed]",
      "text/plain": [
       "<Figure size 864x576 with 2 Axes>"
      ]
     },
     "metadata": {
      "needs_background": "light",
      "tags": []
     },
     "output_type": "display_data"
    }
   ],
   "source": [
    "plt.figure(figsize=(12,8))\n",
    "\n",
    "plt.subplot(2,2,1)\n",
    "plt.plot(history.history['loss'],label='training loss')\n",
    "plt.plot(history.history['val_loss'],label='val loss')\n",
    "plt.legend()\n",
    "plt.grid()\n",
    "plt.title('Loss evaluation')\n",
    "\n",
    "plt.subplot(2,2,2)\n",
    "plt.plot(history.history['accuracy'],label='training accuray')\n",
    "plt.plot(history.history['accuracy'],label='val accuracy')\n",
    "plt.legend()\n",
    "plt.grid()\n",
    "plt.title(\"accuracy evaluation\")"
   ]
  },
  {
   "cell_type": "code",
   "execution_count": 51,
   "metadata": {
    "colab": {
     "base_uri": "https://localhost:8080/"
    },
    "executionInfo": {
     "elapsed": 2026,
     "status": "ok",
     "timestamp": 1619678822532,
     "user": {
      "displayName": "064_Raushan",
      "photoUrl": "",
      "userId": "12633297753218062669"
     },
     "user_tz": -330
    },
    "id": "_DtunImrWwLO",
    "outputId": "32ba6919-c474-43ad-f321-197ceb79b648"
   },
   "outputs": [
    {
     "name": "stderr",
     "output_type": "stream",
     "text": [
      "/usr/local/lib/python3.7/dist-packages/tensorflow/python/keras/engine/sequential.py:450: UserWarning: `model.predict_classes()` is deprecated and will be removed after 2021-01-01. Please use instead:* `np.argmax(model.predict(x), axis=-1)`,   if your model does multi-class classification   (e.g. if it uses a `softmax` last-layer activation).* `(model.predict(x) > 0.5).astype(\"int32\")`,   if your model does binary classification   (e.g. if it uses a `sigmoid` last-layer activation).\n",
      "  warnings.warn('`model.predict_classes()` is deprecated and '\n"
     ]
    }
   ],
   "source": [
    "pred = model.predict_classes(test_X)"
   ]
  },
  {
   "cell_type": "code",
   "execution_count": 55,
   "metadata": {
    "colab": {
     "base_uri": "https://localhost:8080/",
     "height": 500
    },
    "executionInfo": {
     "elapsed": 2477,
     "status": "ok",
     "timestamp": 1619678911499,
     "user": {
      "displayName": "064_Raushan",
      "photoUrl": "",
      "userId": "12633297753218062669"
     },
     "user_tz": -330
    },
    "id": "WD_eYtHIX2ob",
    "outputId": "38de868c-b98c-45a4-ed98-324eee3ac4cd"
   },
   "outputs": [
    {
     "data": {
      "text/plain": [
       "<matplotlib.axes._subplots.AxesSubplot at 0x7f6e10b5b810>"
      ]
     },
     "execution_count": 55,
     "metadata": {
      "tags": []
     },
     "output_type": "execute_result"
    },
    {
     "data": {
      "image/png": "[encoded data removed]",
      "text/plain": [
       "<Figure size 864x576 with 2 Axes>"
      ]
     },
     "metadata": {
      "needs_background": "light",
      "tags": []
     },
     "output_type": "display_data"
    }
   ],
   "source": [
    "\n",
    "from sklearn.metrics import confusion_matrix\n",
    "import seaborn as sns\n",
    "plt.figure(figsize=(12,8))\n",
    "cm = confusion_matrix(pred,test_y)\n",
    "sns.heatmap(cm)"
   ]
  },
  {
   "cell_type": "code",
   "execution_count": 56,
   "metadata": {
    "colab": {
     "base_uri": "https://localhost:8080/",
     "height": 705
    },
    "executionInfo": {
     "elapsed": 2663,
     "status": "ok",
     "timestamp": 1619679006385,
     "user": {
      "displayName": "064_Raushan",
      "photoUrl": "",
      "userId": "12633297753218062669"
     },
     "user_tz": -330
    },
    "id": "MPkkk0qgYNxp",
    "outputId": "e1f193aa-4cbb-4286-c73a-b4b7d3aec205"
   },
   "outputs": [
    {
     "data": {
      "image/png": "[encoded data removed]",
      "text/plain": [
       "<Figure size 864x864 with 25 Axes>"
      ]
     },
     "metadata": {
      "needs_background": "light",
      "tags": []
     },
     "output_type": "display_data"
    }
   ],
   "source": [
    "fig, axes = plt.subplots(5,5, figsize = (12,12))\n",
    "axes = axes.ravel()\n",
    "\n",
    "for i in np.arange(0, 5*5):  \n",
    "    axes[i].imshow(test_X[i].reshape(28,28))\n",
    "    axes[i].set_title(f\"Prediction Class = {pred[i]:0.1f}\\n True Class = {test_y[i]:0.1f}\")\n",
    "    axes[i].axis('off')\n",
    "plt.subplots_adjust(wspace=0.5,hspace=0.3)"
   ]
  },
  {
   "cell_type": "code",
   "execution_count": 57,
   "metadata": {
    "executionInfo": {
     "elapsed": 1173,
     "status": "ok",
     "timestamp": 1619679068520,
     "user": {
      "displayName": "064_Raushan",
      "photoUrl": "",
      "userId": "12633297753218062669"
     },
     "user_tz": -330
    },
    "id": "Mrz1YrEjZEPM"
   },
   "outputs": [],
   "source": [
    "model.save('sign_classifier.h5')"
   ]
  },
  {
   "cell_type": "code",
   "execution_count": null,
   "metadata": {
    "id": "Ot4CYFYDZTyb"
   },
   "outputs": [],
   "source": []
  }
 ],
 "metadata": {
  "accelerator": "GPU",
  "colab": {
   "authorship_tag": "ABX9TyOUXPJCY+oM8S4l4tZNWayk",
   "name": "Untitled0.ipynb",
   "provenance": []
  },
  "kernelspec": {
   "display_name": "Python 3",
   "language": "python",
   "name": "python3"
  },
  "language_info": {
   "codemirror_mode": {
    "name": "ipython",
    "version": 3
   },
   "file_extension": ".py",
   "mimetype": "text/x-python",
   "name": "python",
   "nbconvert_exporter": "python",
   "pygments_lexer": "ipython3",
   "version": "3.7.4"
  }
 },
 "nbformat": 4,
 "nbformat_minor": 1
}
